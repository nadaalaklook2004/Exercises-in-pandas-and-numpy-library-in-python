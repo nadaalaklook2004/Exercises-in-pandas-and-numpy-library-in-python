{
 "cells": [
  {
   "cell_type": "code",
   "execution_count": 2,
   "id": "25046edb",
   "metadata": {},
   "outputs": [],
   "source": [
    "import pandas as pd\n",
    "import numpy as np"
   ]
  },
  {
   "cell_type": "code",
   "execution_count": 3,
   "id": "8272f952",
   "metadata": {},
   "outputs": [
    {
     "name": "stdout",
     "output_type": "stream",
     "text": [
      "[4 2 3 1 0]\n",
      "['1:third' '1:first' '1:second' '2:second' '2:first']\n"
     ]
    }
   ],
   "source": [
    "# Q1 :\n",
    "\n",
    "key = np.array([2, 2, 1, 1, 1])\n",
    "values = np.array(['2:first', '2:second', '1:first', '1:second','1:third'])\n",
    "indexer = key.argsort(kind='heapsort')\n",
    "print(indexer) \n",
    "print(values.take(indexer))"
   ]
  },
  {
   "cell_type": "code",
   "execution_count": 64,
   "id": "6b82250e",
   "metadata": {},
   "outputs": [
    {
     "name": "stdout",
     "output_type": "stream",
     "text": [
      "2021\n",
      "2021\n",
      "The average for the whole class 68.86\n",
      "      names        ids GPAs\n",
      "0     ahmed  120215568   89\n",
      "1  mohammed  120206874   77\n",
      "2         w          w    w\n",
      "3      foad  120194532   60\n",
      "4      loay  120212258   58\n",
      "5         w          w    w\n",
      "6      saed  120227452   92\n"
     ]
    }
   ],
   "source": [
    "# Q3 :\n",
    "data = {'names': ['ahmed', 'mohammed', 'anas', 'foad', 'loay', 'gamal', 'saed'],\n",
    " 'ids': ['120215568', '120206874', '120219874', '120194532', '120212258', '120214521', '120227452'],\n",
    " 'GPAs': [89, 77, 52, 60, 58, 54, 92]}\n",
    "frame1 = pd.DataFrame(data)\n",
    "\n",
    "c = frame1['ids'][frame1['GPAs']<55]\n",
    "y= c.values\n",
    "for i in y :\n",
    "    print(i[1:5])\n",
    "average = frame1['GPAs'].mean()\n",
    "print(f'The average for the whole class {round(average,2)}')\n",
    "frame1.iloc[frame1['GPAs']<55] = 'w'\n",
    "print(frame1)\n"
   ]
  },
  {
   "cell_type": "code",
   "execution_count": 47,
   "id": "7839369d",
   "metadata": {},
   "outputs": [
    {
     "name": "stdout",
     "output_type": "stream",
     "text": [
      "       cities  distance country\n",
      "0       Paris    1542.1  FRANCE\n",
      "1   Marseille    8695.5  FRANCE\n",
      "2        Lyon    2587.5  FRANCE\n",
      "3    Toulouse    1875.7  FRANCE\n",
      "4  Strasbourg    5987.0  FRANCE\n",
      "5     Le Mans   11014.9  FRANCE\n",
      "The nearest city is Paris it is nearer 7153.4 than the other city.\n"
     ]
    }
   ],
   "source": [
    "# Q4 :\n",
    "sdata = {'cities': ['Paris', 'Marseille', 'Lyon', 'Toulouse', 'Strasbourg', 'Le Mans'],\n",
    "'distance': [1542.1, 8695.5, 2587.5, 1875.7, 5987.0, 11014.9],}\n",
    "frame2 = pd.DataFrame(sdata)\n",
    "frame2['country']='FRANCE'\n",
    "frame2.sort_values(by=['distance'])\n",
    "print(frame2)\n",
    "\n",
    "series=pd.Series(frame2['distance'].values,index=frame2['cities'])\n",
    "def nearestCity(x,y) :\n",
    "    if series[x]<series[y] :\n",
    "        nearest = x \n",
    "    else :\n",
    "        nearest = y\n",
    "    diffance = abs(series[x]-series[y])\n",
    "    print(f'The nearest city is {nearest} it is nearer {diffance} than the other city.')\n",
    "nearestCity('Paris','Marseille')"
   ]
  },
  {
   "cell_type": "code",
   "execution_count": 54,
   "id": "bb3b03ec",
   "metadata": {},
   "outputs": [
    {
     "name": "stdout",
     "output_type": "stream",
     "text": [
      "Equals: \n",
      "0    False\n",
      "1    False\n",
      "2    False\n",
      "3    False\n",
      "4     True\n",
      "dtype: bool \n",
      "\n",
      "Grater than:\n",
      "0     True\n",
      "1     True\n",
      "2     True\n",
      "3     True\n",
      "4    False\n",
      "dtype: bool \n",
      "\n",
      "less than:\n",
      "0    False\n",
      "1    False\n",
      "2    False\n",
      "3    False\n",
      "4    False\n",
      "dtype: bool\n"
     ]
    }
   ],
   "source": [
    "# Q5 :\n",
    "series1 = pd.Series([2, 4, 6, 8, 10])\n",
    "series2 = pd.Series([1, 3, 5, 7, 10])\n",
    "equals = series1==series2\n",
    "equals.index.name = 'Equals: '\n",
    "print(equals,'\\n')\n",
    "grater = series1>series2\n",
    "grater.index.name = 'Grater than:'\n",
    "print(grater,'\\n')\n",
    "less = series1<series2\n",
    "less.index.name = 'less than:'\n",
    "print(less)"
   ]
  },
  {
   "cell_type": "code",
   "execution_count": 103,
   "id": "3f7570c3",
   "metadata": {},
   "outputs": [
    {
     "name": "stdout",
     "output_type": "stream",
     "text": [
      "    col1  col2  col3\n",
      "0      1     4     7\n",
      "1      2     5     5\n",
      "2      3     6     8\n",
      "3      4     9    12\n",
      "4      7     5     1\n",
      "5     11     0    11\n",
      "6     22     4     5\n",
      "7      3     6     8\n",
      "8      2     7    22\n",
      "9      3     8     6\n",
      "10     9     0     5 \n",
      "\n",
      "first column as a Series\n",
      "0      1\n",
      "1      2\n",
      "2      3\n",
      "3      4\n",
      "4      7\n",
      "5     11\n",
      "6     22\n",
      "7      3\n",
      "8      2\n",
      "9      3\n",
      "10     9\n",
      "Name: col1, dtype: int64 \n",
      "\n",
      "    col1\n",
      "3      3\n",
      "2      2\n",
      "1      1\n",
      "4      1\n",
      "7      1\n",
      "11     1\n",
      "22     1\n",
      "9      1 \n",
      "\n",
      "first column as a Series\n",
      "0     Other\n",
      "1     Other\n",
      "2         3\n",
      "3     Other\n",
      "4     Other\n",
      "5     Other\n",
      "6     Other\n",
      "7         3\n",
      "8     Other\n",
      "9         3\n",
      "10    Other\n",
      "Name: col1, dtype: object\n"
     ]
    }
   ],
   "source": [
    "# Q6 :\n",
    "data = {'col1': [1, 2, 3, 4, 7, 11, 22, 3, 2, 3, 9], 'col2': [4, 5, 6, 9, 5, 0, 4, 6, 7, 8, 0], 'col3': [7, 5, 8,\n",
    "12, 1, 11, 5 ,8 ,22 , 6, 5]}\n",
    "frame2 = pd.DataFrame(data)\n",
    "print(frame2,'\\n')\n",
    "series4=pd.Series(frame2['col1'])\n",
    "series4.index.name = 'first column as a Series'\n",
    "print(series4,'\\n')\n",
    "\n",
    "frequentValue = frame2['col1'].value_counts().to_frame() \n",
    "print(frequentValue,'\\n')\n",
    "\n",
    "series4[series4.mode()[0]!=series4.values] = 'Other'\n",
    "print(series4)"
   ]
  },
  {
   "cell_type": "code",
   "execution_count": null,
   "id": "a2bd88c9",
   "metadata": {},
   "outputs": [],
   "source": []
  },
  {
   "cell_type": "code",
   "execution_count": null,
   "id": "550af49f",
   "metadata": {},
   "outputs": [],
   "source": []
  }
 ],
 "metadata": {
  "kernelspec": {
   "display_name": "Python 3 (ipykernel)",
   "language": "python",
   "name": "python3"
  },
  "language_info": {
   "codemirror_mode": {
    "name": "ipython",
    "version": 3
   },
   "file_extension": ".py",
   "mimetype": "text/x-python",
   "name": "python",
   "nbconvert_exporter": "python",
   "pygments_lexer": "ipython3",
   "version": "3.9.12"
  }
 },
 "nbformat": 4,
 "nbformat_minor": 5
}
