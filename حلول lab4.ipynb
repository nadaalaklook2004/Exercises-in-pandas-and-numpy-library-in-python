{
 "cells": [
  {
   "cell_type": "code",
   "execution_count": 1,
   "id": "d665b486",
   "metadata": {},
   "outputs": [],
   "source": [
    "import numpy as np\n",
    "arr = np.random.rand(10)*100"
   ]
  },
  {
   "cell_type": "code",
   "execution_count": 2,
   "id": "555e02d5",
   "metadata": {},
   "outputs": [
    {
     "name": "stdout",
     "output_type": "stream",
     "text": [
      "[9. 7. 6. 6. 6. 5. 7. 1. 2. 3.]\n"
     ]
    }
   ],
   "source": [
    "np.sqrt(arr, arr)\n",
    "x,y = np.modf(arr)\n",
    "print(y)"
   ]
  },
  {
   "cell_type": "code",
   "execution_count": 3,
   "id": "d6884608",
   "metadata": {},
   "outputs": [
    {
     "data": {
      "text/plain": [
       "array([1000,    0, 1200,    0,    0,  650,    0, 4560])"
      ]
     },
     "execution_count": 3,
     "metadata": {},
     "output_type": "execute_result"
    }
   ],
   "source": [
    "balance = np.array([1000,300,1200,400,180,650,70,4560])\n",
    "balance[balance<500] = 0\n",
    "balance"
   ]
  },
  {
   "cell_type": "code",
   "execution_count": 4,
   "id": "a860e7b3",
   "metadata": {},
   "outputs": [
    {
     "data": {
      "text/plain": [
       "array([[ 0,  1,  2,  3],\n",
       "       [ 4,  6,  8, 10],\n",
       "       [12, 15, 18, 21],\n",
       "       [24, 28, 32, 36],\n",
       "       [40, 45, 50, 55]], dtype=int32)"
      ]
     },
     "execution_count": 4,
     "metadata": {},
     "output_type": "execute_result"
    }
   ],
   "source": [
    "values = np.arange(20).reshape((5,4))\n",
    "values.cumsum(0)\n"
   ]
  },
  {
   "cell_type": "code",
   "execution_count": 13,
   "id": "3b83bb9b",
   "metadata": {},
   "outputs": [
    {
     "data": {
      "text/plain": [
       "array([[    0,     0,     0,     0],\n",
       "       [    4,    20,   120,   840],\n",
       "       [    8,    72,   720,  7920],\n",
       "       [   12,   156,  2184, 32760],\n",
       "       [   16,   272,  4896, 93024]], dtype=int32)"
      ]
     },
     "execution_count": 13,
     "metadata": {},
     "output_type": "execute_result"
    }
   ],
   "source": [
    "cumprod1=values.cumprod(1)\n",
    "cumprod1"
   ]
  },
  {
   "cell_type": "code",
   "execution_count": 14,
   "id": "0dc1ec98",
   "metadata": {},
   "outputs": [
    {
     "data": {
      "text/plain": [
       "93024"
      ]
     },
     "execution_count": 14,
     "metadata": {},
     "output_type": "execute_result"
    }
   ],
   "source": [
    "np.max(cumprod1)"
   ]
  },
  {
   "cell_type": "code",
   "execution_count": 15,
   "id": "beec9748",
   "metadata": {},
   "outputs": [
    {
     "data": {
      "text/plain": [
       "0"
      ]
     },
     "execution_count": 15,
     "metadata": {},
     "output_type": "execute_result"
    }
   ],
   "source": [
    "np.min(cumprod1)"
   ]
  },
  {
   "cell_type": "code",
   "execution_count": 17,
   "id": "741e951f",
   "metadata": {},
   "outputs": [
    {
     "data": {
      "text/plain": [
       "5"
      ]
     },
     "execution_count": 17,
     "metadata": {},
     "output_type": "execute_result"
    }
   ],
   "source": [
    "(cumprod1 > 1000).sum()"
   ]
  },
  {
   "cell_type": "code",
   "execution_count": 63,
   "id": "8dc79c0b",
   "metadata": {},
   "outputs": [
    {
     "data": {
      "text/plain": [
       "array([[49.35741224,  1.61974045, 76.88710594],\n",
       "       [50.19241442, 70.66342991, 20.47950788],\n",
       "       [87.54310069, 15.06572852,  2.71119851],\n",
       "       [50.28854376, 93.65378358, 83.90223239]])"
      ]
     },
     "execution_count": 63,
     "metadata": {},
     "output_type": "execute_result"
    }
   ],
   "source": [
    "arr2 = np.random.rand(12).reshape(4,3)*100\n",
    "arr2"
   ]
  },
  {
   "cell_type": "code",
   "execution_count": 65,
   "id": "7a985790",
   "metadata": {},
   "outputs": [
    {
     "data": {
      "text/plain": [
       "array([[ 1.61974045, 15.06572852, 70.66342991],\n",
       "       [ 2.71119851, 49.35741224, 76.88710594],\n",
       "       [20.47950788, 50.19241442, 87.54310069],\n",
       "       [50.28854376, 83.90223239, 93.65378358]])"
      ]
     },
     "execution_count": 65,
     "metadata": {},
     "output_type": "execute_result"
    }
   ],
   "source": [
    "arr2.sort(0)\n",
    "arr2"
   ]
  },
  {
   "cell_type": "code",
   "execution_count": 66,
   "id": "798a81c9",
   "metadata": {},
   "outputs": [],
   "source": [
    "np.save('array', arr2)\n"
   ]
  },
  {
   "cell_type": "code",
   "execution_count": 70,
   "id": "ff3b4c72",
   "metadata": {},
   "outputs": [
    {
     "data": {
      "text/plain": [
       "array([[ 5222.92006185,  6181.1034329 ,  6975.45253688,  7963.4002157 ],\n",
       "       [ 6181.1034329 ,  8355.13180043,  9263.82735876, 11478.30767672],\n",
       "       [ 6975.45253688,  9263.82735876, 10602.48318757, 13439.88285325],\n",
       "       [ 7963.4002157 , 11478.30767672, 13439.88285325, 18339.55341182]])"
      ]
     },
     "execution_count": 70,
     "metadata": {},
     "output_type": "execute_result"
    }
   ],
   "source": [
    "c = np.load('array.npy')\n",
    "c @ arr2.T "
   ]
  },
  {
   "cell_type": "code",
   "execution_count": 75,
   "id": "b6ef0bdb",
   "metadata": {},
   "outputs": [
    {
     "data": {
      "text/plain": [
       "array([0., 2., 4., 5., 6., 7., 8.])"
      ]
     },
     "execution_count": 75,
     "metadata": {},
     "output_type": "execute_result"
    }
   ],
   "source": [
    "arr3 = np.random.rand(12)*10\n",
    "r , w = np.modf(arr3)\n",
    "t = np.unique(w)\n",
    "t"
   ]
  },
  {
   "cell_type": "code",
   "execution_count": 76,
   "id": "f7decf42",
   "metadata": {},
   "outputs": [
    {
     "data": {
      "text/plain": [
       "array([ True,  True,  True, False,  True, False,  True])"
      ]
     },
     "execution_count": 76,
     "metadata": {},
     "output_type": "execute_result"
    }
   ],
   "source": [
    "np.isin(t,[0,2,4,6,8])"
   ]
  },
  {
   "cell_type": "code",
   "execution_count": 78,
   "id": "cfffd5b3",
   "metadata": {},
   "outputs": [
    {
     "data": {
      "text/plain": [
       "False"
      ]
     },
     "execution_count": 78,
     "metadata": {},
     "output_type": "execute_result"
    }
   ],
   "source": [
    "(t%2).all()"
   ]
  },
  {
   "cell_type": "code",
   "execution_count": null,
   "id": "e432e995",
   "metadata": {},
   "outputs": [],
   "source": []
  }
 ],
 "metadata": {
  "kernelspec": {
   "display_name": "Python 3 (ipykernel)",
   "language": "python",
   "name": "python3"
  },
  "language_info": {
   "codemirror_mode": {
    "name": "ipython",
    "version": 3
   },
   "file_extension": ".py",
   "mimetype": "text/x-python",
   "name": "python",
   "nbconvert_exporter": "python",
   "pygments_lexer": "ipython3",
   "version": "3.9.12"
  }
 },
 "nbformat": 4,
 "nbformat_minor": 5
}
