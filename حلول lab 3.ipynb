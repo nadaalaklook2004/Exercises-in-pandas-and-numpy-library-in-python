{
 "cells": [
  {
   "cell_type": "code",
   "execution_count": 2,
   "id": "3c106b74",
   "metadata": {},
   "outputs": [],
   "source": [
    "import numpy as np"
   ]
  },
  {
   "cell_type": "code",
   "execution_count": 3,
   "id": "915b59b4",
   "metadata": {},
   "outputs": [],
   "source": [
    "# Q1 :\n",
    "names = np.array(['ahmed', 'mohammed', 'anas', 'foad', 'loay', 'gamal', 'saed'])\n",
    "ids = np.array(['120215568', '120216874', '120219874', '120214532', '120212258', '120214521', '120217452'])\n",
    "grades = np.array([[94,85,88], [75,89,91], [92,84,82], [74,78,81], [72,73,77], [64,82,78], [95,92,89]])\n",
    "GPAs = np.array([89, 85, 86, 77, 74, 74, 92])"
   ]
  },
  {
   "cell_type": "code",
   "execution_count": 4,
   "id": "dd585d15",
   "metadata": {},
   "outputs": [
    {
     "data": {
      "text/plain": [
       "array(['ahmed', 'anas', 'saed'], dtype='<U8')"
      ]
     },
     "execution_count": 4,
     "metadata": {},
     "output_type": "execute_result"
    }
   ],
   "source": [
    "names[GPAs>85]"
   ]
  },
  {
   "cell_type": "code",
   "execution_count": 5,
   "id": "bcd3f897",
   "metadata": {},
   "outputs": [
    {
     "data": {
      "text/plain": [
       "array(['120215568', '120219874', '120217452'], dtype='<U9')"
      ]
     },
     "execution_count": 5,
     "metadata": {},
     "output_type": "execute_result"
    }
   ],
   "source": [
    "ids[GPAs>85]"
   ]
  },
  {
   "cell_type": "code",
   "execution_count": 6,
   "id": "ad9a82f7",
   "metadata": {},
   "outputs": [
    {
     "data": {
      "text/plain": [
       "array([[94, 85, 88],\n",
       "       [92, 84, 82],\n",
       "       [95, 92, 89]])"
      ]
     },
     "execution_count": 6,
     "metadata": {},
     "output_type": "execute_result"
    }
   ],
   "source": [
    "grades[GPAs>85]"
   ]
  },
  {
   "cell_type": "code",
   "execution_count": 7,
   "id": "cacc27d8",
   "metadata": {},
   "outputs": [
    {
     "data": {
      "text/plain": [
       "array([[94, 85, 88],\n",
       "       [75, 89, 91],\n",
       "       [92, 84, 82],\n",
       "       [74, 78, 81],\n",
       "       [72, 73, 77],\n",
       "       [64, 82, 78],\n",
       "       [95, 92, 90]])"
      ]
     },
     "execution_count": 7,
     "metadata": {},
     "output_type": "execute_result"
    }
   ],
   "source": [
    "grades[GPAs>90,2] = 90\n",
    "grades"
   ]
  },
  {
   "cell_type": "code",
   "execution_count": 8,
   "id": "016963aa",
   "metadata": {},
   "outputs": [
    {
     "data": {
      "text/plain": [
       "array([[100,  85,  88],\n",
       "       [ 75,  89, 100],\n",
       "       [100,  84,  82],\n",
       "       [ 74,  78,  81],\n",
       "       [ 72,  73,  77],\n",
       "       [ 64,  82,  78],\n",
       "       [100, 100,  90]])"
      ]
     },
     "execution_count": 8,
     "metadata": {},
     "output_type": "execute_result"
    }
   ],
   "source": [
    "grades[grades>90] = 100\n",
    "grades"
   ]
  },
  {
   "cell_type": "code",
   "execution_count": 9,
   "id": "4e48400d",
   "metadata": {},
   "outputs": [
    {
     "name": "stdout",
     "output_type": "stream",
     "text": [
      "[ 0  5  9 10 12]\n"
     ]
    }
   ],
   "source": [
    "# Q2 :\n",
    "arr = np.arange(16).reshape((4, 4))\n",
    "print(arr[[0,1,2,2,3],[0,1,1,2,0]])"
   ]
  },
  {
   "cell_type": "code",
   "execution_count": 10,
   "id": "dd1cf911",
   "metadata": {},
   "outputs": [
    {
     "name": "stdout",
     "output_type": "stream",
     "text": [
      "[[[ 0 15]\n",
      "  [ 5 20]\n",
      "  [10 25]]\n",
      "\n",
      " [[ 1 16]\n",
      "  [ 6 21]\n",
      "  [11 26]]\n",
      "\n",
      " [[ 2 17]\n",
      "  [ 7 22]\n",
      "  [12 27]]\n",
      "\n",
      " [[ 3 18]\n",
      "  [ 8 23]\n",
      "  [13 28]]\n",
      "\n",
      " [[ 4 19]\n",
      "  [ 9 24]\n",
      "  [14 29]]]\n"
     ]
    }
   ],
   "source": [
    "# Q3 :\n",
    "arr = np.arange(30).reshape((2, 3, 5))\n",
    "print(arr.transpose(2,1,0))"
   ]
  },
  {
   "cell_type": "code",
   "execution_count": null,
   "id": "16ef07ab",
   "metadata": {},
   "outputs": [],
   "source": []
  }
 ],
 "metadata": {
  "kernelspec": {
   "display_name": "Python 3 (ipykernel)",
   "language": "python",
   "name": "python3"
  },
  "language_info": {
   "codemirror_mode": {
    "name": "ipython",
    "version": 3
   },
   "file_extension": ".py",
   "mimetype": "text/x-python",
   "name": "python",
   "nbconvert_exporter": "python",
   "pygments_lexer": "ipython3",
   "version": "3.9.12"
  }
 },
 "nbformat": 4,
 "nbformat_minor": 5
}
