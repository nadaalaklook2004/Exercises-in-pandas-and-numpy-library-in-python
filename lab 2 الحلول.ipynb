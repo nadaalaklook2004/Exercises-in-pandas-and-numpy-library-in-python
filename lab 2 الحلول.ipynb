{
 "cells": [
  {
   "cell_type": "code",
   "execution_count": 1,
   "id": "957ea3ba",
   "metadata": {},
   "outputs": [],
   "source": [
    "import numpy as np"
   ]
  },
  {
   "cell_type": "code",
   "execution_count": 4,
   "id": "0adb7a38",
   "metadata": {},
   "outputs": [],
   "source": [
    "names = np.array(['ahmed', 'mohammed', 'anas', 'foad', 'loay', 'gamal', 'saed'])\n",
    "ids = np.array(['120215568', '120216874', '120219874', '120214532', '120212258', '120214521', '120217452'])\n",
    "grades = np.array([[94,85,88], [75,89,91], [92,84,82], [74,78,81], [72,73,77], [64,82,78], [95,92,89]])\n",
    "GPAs = np.array([89, 85, 86, 77, 74, 74, 92])"
   ]
  },
  {
   "cell_type": "code",
   "execution_count": 9,
   "id": "3cc84b8a",
   "metadata": {},
   "outputs": [
    {
     "name": "stdout",
     "output_type": "stream",
     "text": [
      "['ahmed' 'anas' 'saed']\n"
     ]
    }
   ],
   "source": [
    "print(names[GPAs> 85])"
   ]
  },
  {
   "cell_type": "code",
   "execution_count": 10,
   "id": "0a1877b7",
   "metadata": {},
   "outputs": [
    {
     "name": "stdout",
     "output_type": "stream",
     "text": [
      "['120215568' '120219874' '120217452']\n"
     ]
    }
   ],
   "source": [
    "print(ids[GPAs> 85])"
   ]
  },
  {
   "cell_type": "code",
   "execution_count": 11,
   "id": "bd7c5e09",
   "metadata": {},
   "outputs": [
    {
     "name": "stdout",
     "output_type": "stream",
     "text": [
      "[[94 85 88]\n",
      " [92 84 82]\n",
      " [95 92 89]]\n"
     ]
    }
   ],
   "source": [
    "print(grades[GPAs> 85])"
   ]
  },
  {
   "cell_type": "code",
   "execution_count": 21,
   "id": "ecc95f3b",
   "metadata": {},
   "outputs": [
    {
     "name": "stdout",
     "output_type": "stream",
     "text": [
      "[[94 85 88]\n",
      " [75 89 91]\n",
      " [92 84 82]\n",
      " [74 78 81]\n",
      " [72 73 77]\n",
      " [64 82 78]\n",
      " [95 92 90]]\n"
     ]
    }
   ],
   "source": [
    "grades[GPAs> 90,2]=90\n",
    "print(grades)"
   ]
  },
  {
   "cell_type": "code",
   "execution_count": 14,
   "id": "df7e22ee",
   "metadata": {},
   "outputs": [
    {
     "name": "stdout",
     "output_type": "stream",
     "text": [
      "[ 89  85  86  77  74  74 100]\n"
     ]
    }
   ],
   "source": [
    "GPAs[GPAs> 90] = 100\n",
    "print(GPAs)"
   ]
  },
  {
   "cell_type": "code",
   "execution_count": 19,
   "id": "9d0b0576",
   "metadata": {},
   "outputs": [
    {
     "data": {
      "text/plain": [
       "array([ 0,  5,  9, 10, 12])"
      ]
     },
     "execution_count": 19,
     "metadata": {},
     "output_type": "execute_result"
    }
   ],
   "source": [
    "#EX2\n",
    "arr = np.arange(16).reshape((4, 4))\n",
    "arr[[0,1,2,2,3],[0,1,1,2,0]]"
   ]
  },
  {
   "cell_type": "code",
   "execution_count": 18,
   "id": "8b3aea43",
   "metadata": {},
   "outputs": [
    {
     "name": "stdout",
     "output_type": "stream",
     "text": [
      "[[[ 0 15]\n",
      "  [ 5 20]\n",
      "  [10 25]]\n",
      "\n",
      " [[ 1 16]\n",
      "  [ 6 21]\n",
      "  [11 26]]\n",
      "\n",
      " [[ 2 17]\n",
      "  [ 7 22]\n",
      "  [12 27]]\n",
      "\n",
      " [[ 3 18]\n",
      "  [ 8 23]\n",
      "  [13 28]]\n",
      "\n",
      " [[ 4 19]\n",
      "  [ 9 24]\n",
      "  [14 29]]]\n"
     ]
    }
   ],
   "source": [
    "#Ex 3\n",
    "arr = np.arange(30).reshape((2, 3, 5))\n",
    "print(arr.transpose(2,1,0))"
   ]
  },
  {
   "cell_type": "code",
   "execution_count": 22,
   "id": "fb28ac4d",
   "metadata": {},
   "outputs": [
    {
     "name": "stderr",
     "output_type": "stream",
     "text": [
      "C:\\Users\\CHIP2022\\AppData\\Local\\Temp\\ipykernel_596\\522832853.py:2: RuntimeWarning: invalid value encountered in sqrt\n",
      "  np.sqrt(arr, arr)\n"
     ]
    },
    {
     "data": {
      "text/plain": [
       "array([0.60033797, 0.89167895, 1.98719063, 2.47014135, 2.1825284 ,\n",
       "              nan, 2.37868674])"
      ]
     },
     "execution_count": 22,
     "metadata": {},
     "output_type": "execute_result"
    }
   ],
   "source": [
    "arr = np.random.randn(7) * 5\n",
    "np.sqrt(arr, arr)"
   ]
  },
  {
   "cell_type": "code",
   "execution_count": 23,
   "id": "f5c4e7eb",
   "metadata": {},
   "outputs": [
    {
     "data": {
      "text/plain": [
       "array([0.60033797, 0.89167895, 1.98719063, 2.47014135, 2.1825284 ,\n",
       "              nan, 2.37868674])"
      ]
     },
     "execution_count": 23,
     "metadata": {},
     "output_type": "execute_result"
    }
   ],
   "source": [
    "arr"
   ]
  },
  {
   "cell_type": "code",
   "execution_count": 28,
   "id": "7ecbba45",
   "metadata": {},
   "outputs": [],
   "source": [
    "points = np.arange(-5, 5, 0.01)\n",
    "xs = np.meshgrid(points,points)"
   ]
  },
  {
   "cell_type": "code",
   "execution_count": 29,
   "id": "f7870b83",
   "metadata": {},
   "outputs": [
    {
     "data": {
      "text/plain": [
       "[array([[-5.  , -4.99, -4.98, ...,  4.97,  4.98,  4.99],\n",
       "        [-5.  , -4.99, -4.98, ...,  4.97,  4.98,  4.99],\n",
       "        [-5.  , -4.99, -4.98, ...,  4.97,  4.98,  4.99],\n",
       "        ...,\n",
       "        [-5.  , -4.99, -4.98, ...,  4.97,  4.98,  4.99],\n",
       "        [-5.  , -4.99, -4.98, ...,  4.97,  4.98,  4.99],\n",
       "        [-5.  , -4.99, -4.98, ...,  4.97,  4.98,  4.99]]),\n",
       " array([[-5.  , -5.  , -5.  , ..., -5.  , -5.  , -5.  ],\n",
       "        [-4.99, -4.99, -4.99, ..., -4.99, -4.99, -4.99],\n",
       "        [-4.98, -4.98, -4.98, ..., -4.98, -4.98, -4.98],\n",
       "        ...,\n",
       "        [ 4.97,  4.97,  4.97, ...,  4.97,  4.97,  4.97],\n",
       "        [ 4.98,  4.98,  4.98, ...,  4.98,  4.98,  4.98],\n",
       "        [ 4.99,  4.99,  4.99, ...,  4.99,  4.99,  4.99]])]"
      ]
     },
     "execution_count": 29,
     "metadata": {},
     "output_type": "execute_result"
    }
   ],
   "source": [
    "xs"
   ]
  },
  {
   "cell_type": "code",
   "execution_count": 30,
   "id": "d538f511",
   "metadata": {},
   "outputs": [],
   "source": [
    "arr = np.random.randn(5, 4)"
   ]
  },
  {
   "cell_type": "code",
   "execution_count": 31,
   "id": "53e3cd2c",
   "metadata": {},
   "outputs": [
    {
     "data": {
      "text/plain": [
       "array([[-0.2534364 ,  1.56101669, -1.33224671, -2.22514618],\n",
       "       [ 1.06204589,  0.13251412, -0.00959935, -0.91011458],\n",
       "       [ 0.90410162, -0.83088634,  1.22300091,  0.37269437],\n",
       "       [-0.00835699, -1.03950649,  0.4550946 ,  2.18281846],\n",
       "       [ 0.55508003,  0.04200891,  1.06857501, -0.80985064]])"
      ]
     },
     "execution_count": 31,
     "metadata": {},
     "output_type": "execute_result"
    }
   ],
   "source": [
    "arr"
   ]
  },
  {
   "cell_type": "code",
   "execution_count": 32,
   "id": "430e881a",
   "metadata": {},
   "outputs": [
    {
     "data": {
      "text/plain": [
       "0.10699034536676585"
      ]
     },
     "execution_count": 32,
     "metadata": {},
     "output_type": "execute_result"
    }
   ],
   "source": [
    "arr.mean()"
   ]
  },
  {
   "cell_type": "code",
   "execution_count": 1,
   "id": "709018ad",
   "metadata": {},
   "outputs": [
    {
     "ename": "TypeError",
     "evalue": "unsupported operand type(s) for -: 'list' and 'list'",
     "output_type": "error",
     "traceback": [
      "\u001b[1;31m---------------------------------------------------------------------------\u001b[0m",
      "\u001b[1;31mTypeError\u001b[0m                                 Traceback (most recent call last)",
      "Input \u001b[1;32mIn [1]\u001b[0m, in \u001b[0;36m<cell line: 9>\u001b[1;34m()\u001b[0m\n\u001b[0;32m      5\u001b[0m list3 \u001b[38;5;241m=\u001b[39m [\u001b[38;5;241m2\u001b[39m,\u001b[38;5;241m6\u001b[39m,\u001b[38;5;241m7\u001b[39m,\u001b[38;5;241m8\u001b[39m]\n\u001b[0;32m      7\u001b[0m result \u001b[38;5;241m=\u001b[39m \u001b[38;5;28mlist\u001b[39m()\n\u001b[1;32m----> 9\u001b[0m \u001b[43mresult\u001b[49m\u001b[38;5;241;43m.\u001b[39;49m\u001b[43mextend\u001b[49m\u001b[43m(\u001b[49m\u001b[43mi\u001b[49m\u001b[43m \u001b[49m\u001b[38;5;28;43;01mfor\u001b[39;49;00m\u001b[43m \u001b[49m\u001b[43mi\u001b[49m\u001b[43m \u001b[49m\u001b[38;5;129;43;01min\u001b[39;49;00m\u001b[43m \u001b[49m\u001b[43mlist1\u001b[49m\u001b[43m \u001b[49m\u001b[38;5;28;43;01mif\u001b[39;49;00m\u001b[43m \u001b[49m\u001b[43mi\u001b[49m\u001b[43m \u001b[49m\u001b[38;5;129;43;01mnot\u001b[39;49;00m\u001b[43m \u001b[49m\u001b[38;5;129;43;01min\u001b[39;49;00m\u001b[43m \u001b[49m\u001b[43m(\u001b[49m\u001b[43mlist2\u001b[49m\u001b[38;5;241;43m-\u001b[39;49m\u001b[43mlist3\u001b[49m\u001b[43m)\u001b[49m\u001b[43m \u001b[49m\u001b[38;5;129;43;01mand\u001b[39;49;00m\u001b[43m \u001b[49m\u001b[43mi\u001b[49m\u001b[43m \u001b[49m\u001b[38;5;129;43;01mnot\u001b[39;49;00m\u001b[43m \u001b[49m\u001b[38;5;129;43;01min\u001b[39;49;00m\u001b[43m \u001b[49m\u001b[43mresult\u001b[49m\u001b[43m)\u001b[49m\n\u001b[0;32m     11\u001b[0m result\u001b[38;5;241m.\u001b[39mextend(i \u001b[38;5;28;01mfor\u001b[39;00m i \u001b[38;5;129;01min\u001b[39;00m list2 \u001b[38;5;28;01mif\u001b[39;00m i \u001b[38;5;129;01mnot\u001b[39;00m \u001b[38;5;129;01min\u001b[39;00m (list1\u001b[38;5;241m-\u001b[39mlist3) \u001b[38;5;129;01mand\u001b[39;00m i \u001b[38;5;129;01mnot\u001b[39;00m \u001b[38;5;129;01min\u001b[39;00m result)\n\u001b[0;32m     13\u001b[0m result\u001b[38;5;241m.\u001b[39mextend(i \u001b[38;5;28;01mfor\u001b[39;00m i \u001b[38;5;129;01min\u001b[39;00m list3 \u001b[38;5;28;01mif\u001b[39;00m i \u001b[38;5;129;01mnot\u001b[39;00m \u001b[38;5;129;01min\u001b[39;00m (list1\u001b[38;5;241m-\u001b[39mlist2) \u001b[38;5;129;01mand\u001b[39;00m i \u001b[38;5;129;01mnot\u001b[39;00m \u001b[38;5;129;01min\u001b[39;00m result)\n",
      "Input \u001b[1;32mIn [1]\u001b[0m, in \u001b[0;36m<genexpr>\u001b[1;34m(.0)\u001b[0m\n\u001b[0;32m      5\u001b[0m list3 \u001b[38;5;241m=\u001b[39m [\u001b[38;5;241m2\u001b[39m,\u001b[38;5;241m6\u001b[39m,\u001b[38;5;241m7\u001b[39m,\u001b[38;5;241m8\u001b[39m]\n\u001b[0;32m      7\u001b[0m result \u001b[38;5;241m=\u001b[39m \u001b[38;5;28mlist\u001b[39m()\n\u001b[1;32m----> 9\u001b[0m result\u001b[38;5;241m.\u001b[39mextend(i \u001b[38;5;28;01mfor\u001b[39;00m i \u001b[38;5;129;01min\u001b[39;00m list1 \u001b[38;5;28;01mif\u001b[39;00m i \u001b[38;5;129;01mnot\u001b[39;00m \u001b[38;5;129;01min\u001b[39;00m (\u001b[43mlist2\u001b[49m\u001b[38;5;241;43m-\u001b[39;49m\u001b[43mlist3\u001b[49m) \u001b[38;5;129;01mand\u001b[39;00m i \u001b[38;5;129;01mnot\u001b[39;00m \u001b[38;5;129;01min\u001b[39;00m result)\n\u001b[0;32m     11\u001b[0m result\u001b[38;5;241m.\u001b[39mextend(i \u001b[38;5;28;01mfor\u001b[39;00m i \u001b[38;5;129;01min\u001b[39;00m list2 \u001b[38;5;28;01mif\u001b[39;00m i \u001b[38;5;129;01mnot\u001b[39;00m \u001b[38;5;129;01min\u001b[39;00m (list1\u001b[38;5;241m-\u001b[39mlist3) \u001b[38;5;129;01mand\u001b[39;00m i \u001b[38;5;129;01mnot\u001b[39;00m \u001b[38;5;129;01min\u001b[39;00m result)\n\u001b[0;32m     13\u001b[0m result\u001b[38;5;241m.\u001b[39mextend(i \u001b[38;5;28;01mfor\u001b[39;00m i \u001b[38;5;129;01min\u001b[39;00m list3 \u001b[38;5;28;01mif\u001b[39;00m i \u001b[38;5;129;01mnot\u001b[39;00m \u001b[38;5;129;01min\u001b[39;00m (list1\u001b[38;5;241m-\u001b[39mlist2) \u001b[38;5;129;01mand\u001b[39;00m i \u001b[38;5;129;01mnot\u001b[39;00m \u001b[38;5;129;01min\u001b[39;00m result)\n",
      "\u001b[1;31mTypeError\u001b[0m: unsupported operand type(s) for -: 'list' and 'list'"
     ]
    }
   ],
   "source": [
    "list1 = [1,2,3,4]\n",
    "\n",
    "list2 = [2,4,5,6]\n",
    "\n",
    "list3 = [2,6,7,8]\n",
    "\n",
    "result = list()\n",
    "\n",
    "result.extend(i for i in list1 if i not in (list2-list3) and i not in result)\n",
    "\n",
    "result.extend(i for i in list2 if i not in (list1-list3) and i not in result)\n",
    "\n",
    "result.extend(i for i in list3 if i not in (list1-list2) and i not in result)\n",
    "result\n"
   ]
  },
  {
   "cell_type": "code",
   "execution_count": 4,
   "id": "7e10e266",
   "metadata": {},
   "outputs": [
    {
     "data": {
      "text/plain": [
       "[1, 2, 'gh']"
      ]
     },
     "execution_count": 4,
     "metadata": {},
     "output_type": "execute_result"
    }
   ],
   "source": [
    "b = [1,0,2,0,\"gh\",'',[]]\n",
    "list(filter(bool,b))"
   ]
  },
  {
   "cell_type": "code",
   "execution_count": 7,
   "id": "1ae93742",
   "metadata": {},
   "outputs": [
    {
     "ename": "SyntaxError",
     "evalue": "EOL while scanning string literal (1254127295.py, line 1)",
     "output_type": "error",
     "traceback": [
      "\u001b[1;36m  Input \u001b[1;32mIn [7]\u001b[1;36m\u001b[0m\n\u001b[1;33m    i=[1, 0, 2, 0, 'hello', \", []]\u001b[0m\n\u001b[1;37m                                  ^\u001b[0m\n\u001b[1;31mSyntaxError\u001b[0m\u001b[1;31m:\u001b[0m EOL while scanning string literal\n"
     ]
    }
   ],
   "source": [
    "i=[1, 0, 2, 0, 'hello', \", []]\n",
    "    list(filter(bool, 1))"
   ]
  },
  {
   "cell_type": "code",
   "execution_count": 10,
   "id": "4f4749f1",
   "metadata": {},
   "outputs": [],
   "source": [
    "def f1(*args, **kwargs):\n",
    "\n",
    "    print(\"Sanfoundry\")\n",
    "\n",
    "    return x(*args, **kwargs)\n",
    "\n"
   ]
  },
  {
   "cell_type": "code",
   "execution_count": 12,
   "id": "cb9a5a01",
   "metadata": {},
   "outputs": [
    {
     "name": "stdout",
     "output_type": "stream",
     "text": [
      "Sanfoundry\n"
     ]
    },
    {
     "ename": "NameError",
     "evalue": "name 'x' is not defined",
     "output_type": "error",
     "traceback": [
      "\u001b[1;31m---------------------------------------------------------------------------\u001b[0m",
      "\u001b[1;31mNameError\u001b[0m                                 Traceback (most recent call last)",
      "Input \u001b[1;32mIn [12]\u001b[0m, in \u001b[0;36m<cell line: 1>\u001b[1;34m()\u001b[0m\n\u001b[1;32m----> 1\u001b[0m \u001b[43mf1\u001b[49m\u001b[43m(\u001b[49m\u001b[38;5;241;43m1\u001b[39;49m\u001b[43m,\u001b[49m\u001b[38;5;241;43m2\u001b[39;49m\u001b[43m)\u001b[49m\n",
      "Input \u001b[1;32mIn [10]\u001b[0m, in \u001b[0;36mf1\u001b[1;34m(*args, **kwargs)\u001b[0m\n\u001b[0;32m      1\u001b[0m \u001b[38;5;28;01mdef\u001b[39;00m \u001b[38;5;21mf1\u001b[39m(\u001b[38;5;241m*\u001b[39margs, \u001b[38;5;241m*\u001b[39m\u001b[38;5;241m*\u001b[39mkwargs):\n\u001b[0;32m      3\u001b[0m     \u001b[38;5;28mprint\u001b[39m(\u001b[38;5;124m\"\u001b[39m\u001b[38;5;124mSanfoundry\u001b[39m\u001b[38;5;124m\"\u001b[39m)\n\u001b[1;32m----> 5\u001b[0m     \u001b[38;5;28;01mreturn\u001b[39;00m \u001b[43mx\u001b[49m(\u001b[38;5;241m*\u001b[39margs, \u001b[38;5;241m*\u001b[39m\u001b[38;5;241m*\u001b[39mkwargs)\n",
      "\u001b[1;31mNameError\u001b[0m: name 'x' is not defined"
     ]
    }
   ],
   "source": [
    "f1(1,2)"
   ]
  },
  {
   "cell_type": "code",
   "execution_count": 14,
   "id": "32f31689",
   "metadata": {},
   "outputs": [
    {
     "name": "stdout",
     "output_type": "stream",
     "text": [
      "('[0][1]',)\n"
     ]
    }
   ],
   "source": [
    "x = [[0], [1]]\n",
    "\n",
    "print((''.join(list(map(str, x))),))"
   ]
  },
  {
   "cell_type": "code",
   "execution_count": 18,
   "id": "a3d3e409",
   "metadata": {},
   "outputs": [
    {
     "name": "stdout",
     "output_type": "stream",
     "text": [
      "4\n",
      "3\n",
      "2\n",
      "1\n"
     ]
    }
   ],
   "source": [
    "for i in [1, 2, 3, 4][::-1]:\n",
    "\n",
    "    print (i)"
   ]
  },
  {
   "cell_type": "code",
   "execution_count": 17,
   "id": "c243177f",
   "metadata": {},
   "outputs": [
    {
     "data": {
      "text/plain": [
       "2"
      ]
     },
     "execution_count": 17,
     "metadata": {},
     "output_type": "execute_result"
    }
   ],
   "source": [
    "min(max(False, 3,-4), 2,7)"
   ]
  },
  {
   "cell_type": "code",
   "execution_count": null,
   "id": "3b142d0f",
   "metadata": {},
   "outputs": [],
   "source": []
  }
 ],
 "metadata": {
  "kernelspec": {
   "display_name": "Python 3 (ipykernel)",
   "language": "python",
   "name": "python3"
  },
  "language_info": {
   "codemirror_mode": {
    "name": "ipython",
    "version": 3
   },
   "file_extension": ".py",
   "mimetype": "text/x-python",
   "name": "python",
   "nbconvert_exporter": "python",
   "pygments_lexer": "ipython3",
   "version": "3.9.12"
  }
 },
 "nbformat": 4,
 "nbformat_minor": 5
}
