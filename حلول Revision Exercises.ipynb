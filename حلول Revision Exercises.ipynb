{
 "cells": [
  {
   "cell_type": "markdown",
   "id": "22b04bc8",
   "metadata": {},
   "source": [
    "# Revision Exercises"
   ]
  },
  {
   "cell_type": "code",
   "execution_count": 1,
   "id": "2871eaa3",
   "metadata": {},
   "outputs": [],
   "source": [
    "import numpy as np"
   ]
  },
  {
   "cell_type": "markdown",
   "id": "bc91d007",
   "metadata": {},
   "source": [
    "- Create a 3x3 NumPy array with random values between 0 and 1. Then,\n",
    "calculate the **mean** and the **median** for each row then for each column\n",
    "and print the result then print the value of the standard deviation ."
   ]
  },
  {
   "cell_type": "code",
   "execution_count": 3,
   "id": "9af98385",
   "metadata": {},
   "outputs": [
    {
     "name": "stdout",
     "output_type": "stream",
     "text": [
      "[0.46072846 0.74820828 0.27238672] \n",
      "\n",
      "[0.53359615 0.69813629 0.24959103] \n",
      "\n",
      "[0.49452209 0.69391867 0.12397886] \n",
      "\n",
      "[0.49452209 0.69391867 0.15581739] \n",
      "\n",
      "0.3026559008027986\n"
     ]
    }
   ],
   "source": [
    "arr1 = np.random.uniform(size = (3,3))\n",
    "q = arr1.mean(0)\n",
    "z = arr1.mean(1)\n",
    "e = np.median(arr1, axis=1)\n",
    "m = np.median(arr1, axis=0)\n",
    "print(q,'\\n')\n",
    "print(z,'\\n')\n",
    "print(e,'\\n')\n",
    "print(m,'\\n')\n",
    "print(arr1.std())\n"
   ]
  },
  {
   "cell_type": "markdown",
   "id": "083fec6a",
   "metadata": {},
   "source": [
    "-  Create a NumPy array with the values [1, 2, 3, 4, 5]. Using slicing, extract\n",
    "the values at the even indices and print the result ."
   ]
  },
  {
   "cell_type": "code",
   "execution_count": 7,
   "id": "b6574628",
   "metadata": {},
   "outputs": [
    {
     "name": "stdout",
     "output_type": "stream",
     "text": [
      "[1 3 5]\n"
     ]
    }
   ],
   "source": [
    "arr3 = np.array([1, 2, 3, 4, 5])\n",
    "print(arr3[::2])"
   ]
  },
  {
   "cell_type": "markdown",
   "id": "9a6c864c",
   "metadata": {},
   "source": [
    "- Create a 4x4 NumPy array with the values [[1, 2, 3, 4], [5, 6, 7, 8], [9, 10,\n",
    "11, 12], [13, 14, 15, 16]]. Using slicing, extract the subarray with the\n",
    "values [[6, 7], [10, 11]] and print the result ."
   ]
  },
  {
   "cell_type": "code",
   "execution_count": 11,
   "id": "961c010a",
   "metadata": {},
   "outputs": [
    {
     "data": {
      "text/plain": [
       "array([[ 6,  7],\n",
       "       [10, 11]])"
      ]
     },
     "execution_count": 11,
     "metadata": {},
     "output_type": "execute_result"
    }
   ],
   "source": [
    "arr = np.array([[1, 2, 3, 4], [5, 6, 7, 8], [9, 10,11, 12], [13, 14, 15, 16]])\n",
    "arr[1:3,1:3]"
   ]
  },
  {
   "cell_type": "markdown",
   "id": "59abd8db",
   "metadata": {},
   "source": [
    "- Create a NumPy array with values ranging from 0 to 9 and extract the\n",
    "even values in a new array and the primary numbers in a new array."
   ]
  },
  {
   "cell_type": "code",
   "execution_count": 4,
   "id": "99342511",
   "metadata": {},
   "outputs": [
    {
     "name": "stdout",
     "output_type": "stream",
     "text": [
      "[0 2 4 6 8]\n",
      "[2 3 5 7]\n"
     ]
    }
   ],
   "source": [
    "arr = np.arange(10)\n",
    "c = arr[::2]\n",
    "print(c)\n",
    "prime = np.in1d(arr,[2,3,5,7])\n",
    "print(arr[prime])"
   ]
  },
  {
   "cell_type": "markdown",
   "id": "481e13da",
   "metadata": {},
   "source": [
    "- Create a NumPy array with values ranging from 0 to 9 and reshape it to a\n",
    "3x3 array. Then, slice the array to obtain a 2x2 array starting from the\n",
    "second row and second column."
   ]
  },
  {
   "cell_type": "code",
   "execution_count": 32,
   "id": "ae47f86e",
   "metadata": {},
   "outputs": [
    {
     "data": {
      "text/plain": [
       "array([[4, 5],\n",
       "       [7, 8]])"
      ]
     },
     "execution_count": 32,
     "metadata": {},
     "output_type": "execute_result"
    }
   ],
   "source": [
    "arrnow = np.arange(9).reshape(3,3)\n",
    "arrnow[1:,1:]"
   ]
  },
  {
   "cell_type": "markdown",
   "id": "fb5c90ea",
   "metadata": {},
   "source": [
    "- Create a NumPy array with values ranging from 0 to 9 and use Boolean\n",
    "indexing to replace all odd values with -1."
   ]
  },
  {
   "cell_type": "code",
   "execution_count": 18,
   "id": "1d06869d",
   "metadata": {},
   "outputs": [
    {
     "name": "stdout",
     "output_type": "stream",
     "text": [
      "[ 0 -1  2 -1  4 -1  6 -1  8 -1]\n"
     ]
    }
   ],
   "source": [
    "arr1 = np.arange(10)\n",
    "arr1[(arr1%2)!=0]=-1\n",
    "print(arr1)"
   ]
  },
  {
   "cell_type": "markdown",
   "id": "26823424",
   "metadata": {},
   "source": [
    "- Create a NumPy array with values ranging from 0 to 9 and use fancy\n",
    "indexing to obtain a new array with the elements in reverse order."
   ]
  },
  {
   "cell_type": "code",
   "execution_count": 20,
   "id": "0255187b",
   "metadata": {},
   "outputs": [
    {
     "name": "stdout",
     "output_type": "stream",
     "text": [
      "[9 8 7 6 5 4 3 2 1 0]\n"
     ]
    }
   ],
   "source": [
    "arr3 = np.arange(10)\n",
    "print(arr3[::-1])"
   ]
  },
  {
   "cell_type": "code",
   "execution_count": null,
   "id": "6948c22d",
   "metadata": {},
   "outputs": [],
   "source": []
  }
 ],
 "metadata": {
  "kernelspec": {
   "display_name": "Python 3 (ipykernel)",
   "language": "python",
   "name": "python3"
  },
  "language_info": {
   "codemirror_mode": {
    "name": "ipython",
    "version": 3
   },
   "file_extension": ".py",
   "mimetype": "text/x-python",
   "name": "python",
   "nbconvert_exporter": "python",
   "pygments_lexer": "ipython3",
   "version": "3.9.12"
  }
 },
 "nbformat": 4,
 "nbformat_minor": 5
}
