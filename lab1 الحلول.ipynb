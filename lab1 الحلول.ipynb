{
 "cells": [
  {
   "cell_type": "code",
   "execution_count": 3,
   "id": "59c51777",
   "metadata": {},
   "outputs": [],
   "source": [
    "import re "
   ]
  },
  {
   "cell_type": "code",
   "execution_count": 38,
   "id": "22f7d4a8",
   "metadata": {},
   "outputs": [
    {
     "name": "stdout",
     "output_type": "stream",
     "text": [
      "['22', '15']\n",
      "37\n"
     ]
    }
   ],
   "source": [
    "x = \"Hi there my age is 22 years\\nHello My Name is Hashem and im 15 years old\"\n",
    "m = re.findall('([0-9]+) years',x)\n",
    "sum1 = 0\n",
    "for i in m :\n",
    "    sum1 += int(i)\n",
    "print(m)\n",
    "print(sum1)"
   ]
  },
  {
   "cell_type": "code",
   "execution_count": 40,
   "id": "5d75c569",
   "metadata": {},
   "outputs": [
    {
     "name": "stdout",
     "output_type": "stream",
     "text": [
      "['hashem1999saqqa@gmail.com']\n"
     ]
    }
   ],
   "source": [
    "v = \"From : hashem1999saqqa@gmail.com \\nFrom : ahmed-emad2003@whatever.net\"\n",
    "print(re.findall('[0-9a-zA-Z]+@g\\S+',v))"
   ]
  },
  {
   "cell_type": "code",
   "execution_count": 28,
   "id": "93f4941d",
   "metadata": {},
   "outputs": [
    {
     "name": "stdout",
     "output_type": "stream",
     "text": [
      "['12-2-2022', '11-2-2022']\n"
     ]
    }
   ],
   "source": [
    "a = \"today is the sunday 12-2-2022 \\nand yesterday was 11-2-2022\"\n",
    "print(re.findall('[0-9-]+',a))"
   ]
  },
  {
   "cell_type": "code",
   "execution_count": 30,
   "id": "fde9a523",
   "metadata": {},
   "outputs": [
    {
     "name": "stdout",
     "output_type": "stream",
     "text": [
      "['Gaza', 'Jordan']\n"
     ]
    }
   ],
   "source": [
    "y = \"i live in Gaza \\nand my friend parents live in Jordan\"\n",
    "print(re.findall('[A-Z]+\\S+',y))"
   ]
  },
  {
   "cell_type": "code",
   "execution_count": 36,
   "id": "9e4fee52",
   "metadata": {},
   "outputs": [
    {
     "name": "stdout",
     "output_type": "stream",
     "text": [
      "['Ahmed', 'Hashem', 'emad']\n",
      "['ALrayyes', 'Alsaqqa', 'morad']\n"
     ]
    }
   ],
   "source": [
    "w = \"user: Ahmed ALrayyes \\nSalary: 1000$ \\nAge: 26 \\nuser: Hashem Alsaqqa \\nSalary: 1500$ \\nAge: 22\\nuser: emad morad \\nSalary: 2500$ \\nAge: 37\"\n",
    "\n",
    "print(re.findall('user: (.+?)\\s', w))\n",
    "print(re.findall('user: .+?\\s(.+?)\\s', w))"
   ]
  }
 ],
 "metadata": {
  "kernelspec": {
   "display_name": "Python 3 (ipykernel)",
   "language": "python",
   "name": "python3"
  },
  "language_info": {
   "codemirror_mode": {
    "name": "ipython",
    "version": 3
   },
   "file_extension": ".py",
   "mimetype": "text/x-python",
   "name": "python",
   "nbconvert_exporter": "python",
   "pygments_lexer": "ipython3",
   "version": "3.9.12"
  }
 },
 "nbformat": 4,
 "nbformat_minor": 5
}
